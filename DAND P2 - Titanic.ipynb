{
 "cells": [
  {
   "cell_type": "markdown",
   "metadata": {},
   "source": [
    "# Udacity DAND Project 2 - Investigate a dataset"
   ]
  },
  {
   "cell_type": "markdown",
   "metadata": {},
   "source": [
    "## Mark Bannister"
   ]
  },
  {
   "cell_type": "markdown",
   "metadata": {},
   "source": [
    "### Introduction"
   ]
  },
  {
   "cell_type": "markdown",
   "metadata": {},
   "source": [
    "The RMS *Titanic* was a British passenger ship that sank on 15 April 1912. The ship was on its maiden voyage, travelling from Southampton, UK to New York, USA, when it struck an iceberg in the northern Atlantic Ocean. Of the *Titanic*'s 2,224 passengers and crew aboard, more than 1,500 died.\n",
    "\n",
    "A key reason cited for the relatively large loss of life was the lack of adequate lifeboat provision - the *Titanic* only carried enough lifeboats for 1,178 people (one third of her total capacity) [[1]](https://en.wikipedia.org/wiki/RMS_Titanic).\n",
    "\n",
    "This investigation will examine a sample of data from 891 of the passengers and crew on board to determine whether there were any factors that made passengers more likely to survive. In particular, it will focus on passenger sex, class, age and the number of family members on board. Statistical tests will be performed to determine whether any of the factors identified were indeed significant or not."
   ]
  },
  {
   "cell_type": "markdown",
   "metadata": {},
   "source": [
    "### Hypotheses"
   ]
  },
  {
   "cell_type": "markdown",
   "metadata": {},
   "source": [
    "#### *1. Was there a significant relationship between passenger sex and survival?*\n",
    "\n",
    "$H_0$: The population distribution of male and female survivors is consistent with the overall population distribution of male and female passengers\n",
    "\n",
    "$H_1$: The population distribution of male and female survivors is not consistent with the overall population distribution of male and female passengers\n",
    "\n",
    "A chi-squared goodness-of-fit test will be used to determine whether the observed frequencies of male and female survivors differ significantly from expected frequencies based on the overall population distribution.\n",
    "\n",
    "#### *2. Was there a significant relationship between passenger class and survival?*\n",
    "\n",
    "$H_0$: The population distribution of first, second and third class survivors is consistent with the overall population distribution of first, second and third class passengers\n",
    "\n",
    "$H_1$: The population distribution of first, second and third class survivors is not consistent with the overall population distribution of first, second and third class passengers\n",
    "\n",
    "A chi-squared goodness-of-fit test will be used to determine whether the observed frequencies of first, second and third class survivors differ significantly from expected frequencies based on the overall population distribution.\n",
    "\n",
    "#### *3. Was there a significant relationship between passenger age and survival?*\n",
    "\n",
    "$H_0$: The population mean age of survivors is equal to the overall population mean age of passengers\n",
    "\n",
    "$H_1$: The population mean age of survivors is not equal to the overall population mean age of passengers\n",
    "\n",
    "A one-sample t-test will be used to determine whether the population mean age of survivors differs significantly from the overall population mean age of passengers.\n",
    "\n",
    "#### *4. Were parents more likely to survive than children?*\n",
    "\n",
    "$H_0$: The population distribution of parent and child survivors is consistent with the overall population distribution of parent and child passengers\n",
    "\n",
    "$H_1$: The population distribution of parent and child survivors is not consistent with the overall population distribution of parent and child passengers\n",
    "\n",
    "A chi-squared goodness-of-fit test will be used to determine whether the observed frequencies of parent and child survivors differ significantly from expected frequencies based on the overall population distribution.\n",
    "\n",
    "#### *5. Were passengers more likely to survive if they had a family member on board?*\n",
    "\n",
    "$H_0$: The population distribution of survivors with and without family members on board is consistent with the overall population distribution of passengers with and without family members on board\n",
    "\n",
    "$H_1$: The population distribution of survivors with and without family members on board is not consistent with the overall population distribution of passengers with and without family members on board\n",
    "\n",
    "A chi-squared goodness-of-fit test will be used to determine whether the observed frequencies of survivors with and without family members on board differ significantly from expected frequencies based on the overall population distribution.\n"
   ]
  },
  {
   "cell_type": "markdown",
   "metadata": {},
   "source": [
    "### Methodology"
   ]
  },
  {
   "cell_type": "markdown",
   "metadata": {},
   "source": [
    "#### *Data gathering*\n",
    "\n",
    "The sample data, consisting of the details of 891 *Titanic* passengers, will be imported into a Pandas dataframe. The dataframe will then be cleaned using the .dropna() function in Pandas to remove all data for the 177 passengers that do not have a recorded age, leaving a sample of 714 passengers (i.e. representing 32.1% of the total passengers and crew on board at the time of the ship's sinking).\n",
    "\n",
    "It is usually prudent to include as many observations as possible when testing the relationship between two variables. However, given that this investigation will be testing multiple variable relationships, in this instance it is preferable to remove the incomplete records to ensure a consistent dataset is used throughout. This will enable meaningful comparisons to be drawn between multiple conclusions (e.g. those based on passenger age and sex).  \n",
    "\n",
    "It should be noted that there are also 687 passenger records that are missing cabin data, and a further two missing data regarding the passengers' point of embarkation. Given that neither variables are being explored during the course of this investigation, it is not necessary to remove the relevant passengers' details from the sample.\n",
    "\n",
    "Once cleaned, the data will be used to gather summary statistics for the variables being investigated, and to create visualisations. Finally, each hypothesis will be tested on the basis described above, with the relevant null hypothesis being either accepted or rejected.\n",
    "\n",
    "#### *Hypothesis testing*\n",
    "\n",
    "**Chi-squared goodness-of-fit test**\n",
    "\n",
    "A chi-squared goodness-of-fit test will be used to determine whether the observed distribution of categorical variables (e.g. passenger sex) by survival status differs significantly from the expected distribution based on the overall passenger population.\n",
    "\n",
    "The test assumes the following:\n",
    "* The samples have been chosen at random\n",
    "* The sample observations are independent of each other\n",
    "* The expected frequency of sample data in each variable category is at least 5\n",
    "\n",
    "A test statistic and P-value will be calculated and the null hypothesis will be rejected if P < 0.05.\n",
    "\n",
    "* The test statistic is a chi-square random variable ($\\chi^2$) defined by the following equation:  \n",
    "\n",
    "   $$\n",
    "   \\chi^2 = \\sum  \\frac{(x_i - E_i)^2}{E_i}\n",
    "   $$\n",
    "\n",
    "   where $x_i$ is the observed frequency count for the ith level of the categorical variable, and $E_i$ is the expected frequency count for the ith level of the categorical variable. The degrees of freedom used in this test are $(m - 1)(n - 1)$ where $m$ is the total number of categories in the dependent variable and $n$ is the total number of categories in the independent variable.\n",
    "  \n",
    "* The P-value is the probability of observing a sample statistic as extreme as the test statistic [[2]](http://stattrek.com/chi-square-test/goodness-of-fit.aspx?Tutorial=AP) [[3]](http://www.biostathandbook.com/chigof.html).\n",
    "\n",
    "**One-sample t-test**\n",
    "\n",
    "A one-sample t-test will be used to determine whether the population mean age of survivors differs significantly from the overall population mean age of passengers.\n",
    "\n",
    "The test assumes the following:\n",
    "* The samples have been chosen at random\n",
    "* The characteristic is normally distributed in the underlying population\n",
    "* The standard deviation of the underlying population is unknown\n",
    "\n",
    "A test statistic and P-value will be calculated and the null hypothesis will be rejected if P < 0.05.\n",
    "\n",
    "* The test statistic is a t-statistic ($t$) defined by the following equation:  \n",
    "\n",
    "   $$\n",
    "   t = \\frac{\\bar x - \\mu_0}{s\\space/\\sqrt{n}}\n",
    "   $$\n",
    "\n",
    "   where $\\bar x$ is the sample mean, $\\mu_0$ is the population mean, $s$ is the population standard deviation and $n$ is the number of samples. The degrees of freedom used in this test are $n-1$.\n",
    "  \n",
    "* The P-value is the probability of observing a sample statistic as extreme as the test statistic [[4]](http://www.biostathandbook.com/onesamplettest.html)."
   ]
  },
  {
   "cell_type": "markdown",
   "metadata": {},
   "source": [
    "### Results"
   ]
  },
  {
   "cell_type": "markdown",
   "metadata": {},
   "source": [
    "#### *Importing data*"
   ]
  },
  {
   "cell_type": "code",
   "execution_count": 1,
   "metadata": {
    "collapsed": true
   },
   "outputs": [],
   "source": [
    "# Importing packages and setting plt and sns defaults\n",
    "\n",
    "import matplotlib.pyplot as plt\n",
    "import matplotlib.patches as mpatches\n",
    "import numpy as np\n",
    "import pandas as pd\n",
    "import seaborn as sns\n",
    "import scipy.stats as stats\n",
    "%matplotlib inline\n",
    "sns.set(color_codes=True)"
   ]
  },
  {
   "cell_type": "code",
   "execution_count": 2,
   "metadata": {
    "collapsed": true
   },
   "outputs": [],
   "source": [
    "filepath = 'https://d17h27t6h515a5.cloudfront.net/topher/2016/September/57e9a84c_titanic-data/'\n",
    "filename = 'titanic-data.csv'\n",
    "titanic_df = pd.read_csv(filepath + filename)"
   ]
  },
  {
   "cell_type": "markdown",
   "metadata": {},
   "source": [
    "#### *Cleaning data*"
   ]
  },
  {
   "cell_type": "code",
   "execution_count": 3,
   "metadata": {
    "collapsed": false
   },
   "outputs": [
    {
     "data": {
      "text/html": [
       "<div>\n",
       "<table border=\"1\" class=\"dataframe\">\n",
       "  <thead>\n",
       "    <tr style=\"text-align: right;\">\n",
       "      <th></th>\n",
       "      <th>PassengerId</th>\n",
       "      <th>Survived</th>\n",
       "      <th>Pclass</th>\n",
       "      <th>Name</th>\n",
       "      <th>Sex</th>\n",
       "      <th>Age</th>\n",
       "      <th>SibSp</th>\n",
       "      <th>Parch</th>\n",
       "      <th>Ticket</th>\n",
       "      <th>Fare</th>\n",
       "      <th>Cabin</th>\n",
       "      <th>Embarked</th>\n",
       "    </tr>\n",
       "  </thead>\n",
       "  <tbody>\n",
       "    <tr>\n",
       "      <th>0</th>\n",
       "      <td>1</td>\n",
       "      <td>0</td>\n",
       "      <td>3</td>\n",
       "      <td>Braund, Mr. Owen Harris</td>\n",
       "      <td>male</td>\n",
       "      <td>22.0</td>\n",
       "      <td>1</td>\n",
       "      <td>0</td>\n",
       "      <td>A/5 21171</td>\n",
       "      <td>7.2500</td>\n",
       "      <td>NaN</td>\n",
       "      <td>S</td>\n",
       "    </tr>\n",
       "    <tr>\n",
       "      <th>1</th>\n",
       "      <td>2</td>\n",
       "      <td>1</td>\n",
       "      <td>1</td>\n",
       "      <td>Cumings, Mrs. John Bradley (Florence Briggs Th...</td>\n",
       "      <td>female</td>\n",
       "      <td>38.0</td>\n",
       "      <td>1</td>\n",
       "      <td>0</td>\n",
       "      <td>PC 17599</td>\n",
       "      <td>71.2833</td>\n",
       "      <td>C85</td>\n",
       "      <td>C</td>\n",
       "    </tr>\n",
       "    <tr>\n",
       "      <th>2</th>\n",
       "      <td>3</td>\n",
       "      <td>1</td>\n",
       "      <td>3</td>\n",
       "      <td>Heikkinen, Miss. Laina</td>\n",
       "      <td>female</td>\n",
       "      <td>26.0</td>\n",
       "      <td>0</td>\n",
       "      <td>0</td>\n",
       "      <td>STON/O2. 3101282</td>\n",
       "      <td>7.9250</td>\n",
       "      <td>NaN</td>\n",
       "      <td>S</td>\n",
       "    </tr>\n",
       "    <tr>\n",
       "      <th>3</th>\n",
       "      <td>4</td>\n",
       "      <td>1</td>\n",
       "      <td>1</td>\n",
       "      <td>Futrelle, Mrs. Jacques Heath (Lily May Peel)</td>\n",
       "      <td>female</td>\n",
       "      <td>35.0</td>\n",
       "      <td>1</td>\n",
       "      <td>0</td>\n",
       "      <td>113803</td>\n",
       "      <td>53.1000</td>\n",
       "      <td>C123</td>\n",
       "      <td>S</td>\n",
       "    </tr>\n",
       "    <tr>\n",
       "      <th>4</th>\n",
       "      <td>5</td>\n",
       "      <td>0</td>\n",
       "      <td>3</td>\n",
       "      <td>Allen, Mr. William Henry</td>\n",
       "      <td>male</td>\n",
       "      <td>35.0</td>\n",
       "      <td>0</td>\n",
       "      <td>0</td>\n",
       "      <td>373450</td>\n",
       "      <td>8.0500</td>\n",
       "      <td>NaN</td>\n",
       "      <td>S</td>\n",
       "    </tr>\n",
       "  </tbody>\n",
       "</table>\n",
       "</div>"
      ],
      "text/plain": [
       "   PassengerId  Survived  Pclass  \\\n",
       "0            1         0       3   \n",
       "1            2         1       1   \n",
       "2            3         1       3   \n",
       "3            4         1       1   \n",
       "4            5         0       3   \n",
       "\n",
       "                                                Name     Sex   Age  SibSp  \\\n",
       "0                            Braund, Mr. Owen Harris    male  22.0      1   \n",
       "1  Cumings, Mrs. John Bradley (Florence Briggs Th...  female  38.0      1   \n",
       "2                             Heikkinen, Miss. Laina  female  26.0      0   \n",
       "3       Futrelle, Mrs. Jacques Heath (Lily May Peel)  female  35.0      1   \n",
       "4                           Allen, Mr. William Henry    male  35.0      0   \n",
       "\n",
       "   Parch            Ticket     Fare Cabin Embarked  \n",
       "0      0         A/5 21171   7.2500   NaN        S  \n",
       "1      0          PC 17599  71.2833   C85        C  \n",
       "2      0  STON/O2. 3101282   7.9250   NaN        S  \n",
       "3      0            113803  53.1000  C123        S  \n",
       "4      0            373450   8.0500   NaN        S  "
      ]
     },
     "execution_count": 3,
     "metadata": {},
     "output_type": "execute_result"
    }
   ],
   "source": [
    "# Previewing data\n",
    "\n",
    "titanic_df.head()"
   ]
  },
  {
   "cell_type": "code",
   "execution_count": 4,
   "metadata": {
    "collapsed": false
   },
   "outputs": [],
   "source": [
    "# Re-labelling passenger class using strings both for clarity and for later use with\n",
    "# the Pandas .describe() function\n",
    "\n",
    "titanic_df['Pclass'] = titanic_df['Pclass'].map({1: '1st', 2: '2nd', 3: '3rd'})"
   ]
  },
  {
   "cell_type": "code",
   "execution_count": 5,
   "metadata": {
    "collapsed": true
   },
   "outputs": [],
   "source": [
    "# Removing passengers with missing ages (see 'Methodology' section above)\n",
    "\n",
    "titanic_df_clean = titanic_df.dropna(subset = ['Age'])\n",
    "titanic_df_clean.reset_index(drop=True, inplace=True)"
   ]
  },
  {
   "cell_type": "code",
   "execution_count": 6,
   "metadata": {
    "collapsed": false
   },
   "outputs": [
    {
     "data": {
      "text/html": [
       "<div>\n",
       "<table border=\"1\" class=\"dataframe\">\n",
       "  <thead>\n",
       "    <tr style=\"text-align: right;\">\n",
       "      <th></th>\n",
       "      <th>PassengerId</th>\n",
       "      <th>Survived</th>\n",
       "      <th>Pclass</th>\n",
       "      <th>Name</th>\n",
       "      <th>Sex</th>\n",
       "      <th>Age</th>\n",
       "      <th>SibSp</th>\n",
       "      <th>Parch</th>\n",
       "      <th>Ticket</th>\n",
       "      <th>Fare</th>\n",
       "      <th>Cabin</th>\n",
       "      <th>Embarked</th>\n",
       "    </tr>\n",
       "  </thead>\n",
       "  <tbody>\n",
       "    <tr>\n",
       "      <th>0</th>\n",
       "      <td>1</td>\n",
       "      <td>0</td>\n",
       "      <td>3rd</td>\n",
       "      <td>Braund, Mr. Owen Harris</td>\n",
       "      <td>male</td>\n",
       "      <td>22.0</td>\n",
       "      <td>1</td>\n",
       "      <td>0</td>\n",
       "      <td>A/5 21171</td>\n",
       "      <td>7.2500</td>\n",
       "      <td>NaN</td>\n",
       "      <td>S</td>\n",
       "    </tr>\n",
       "    <tr>\n",
       "      <th>1</th>\n",
       "      <td>2</td>\n",
       "      <td>1</td>\n",
       "      <td>1st</td>\n",
       "      <td>Cumings, Mrs. John Bradley (Florence Briggs Th...</td>\n",
       "      <td>female</td>\n",
       "      <td>38.0</td>\n",
       "      <td>1</td>\n",
       "      <td>0</td>\n",
       "      <td>PC 17599</td>\n",
       "      <td>71.2833</td>\n",
       "      <td>C85</td>\n",
       "      <td>C</td>\n",
       "    </tr>\n",
       "    <tr>\n",
       "      <th>2</th>\n",
       "      <td>3</td>\n",
       "      <td>1</td>\n",
       "      <td>3rd</td>\n",
       "      <td>Heikkinen, Miss. Laina</td>\n",
       "      <td>female</td>\n",
       "      <td>26.0</td>\n",
       "      <td>0</td>\n",
       "      <td>0</td>\n",
       "      <td>STON/O2. 3101282</td>\n",
       "      <td>7.9250</td>\n",
       "      <td>NaN</td>\n",
       "      <td>S</td>\n",
       "    </tr>\n",
       "    <tr>\n",
       "      <th>3</th>\n",
       "      <td>4</td>\n",
       "      <td>1</td>\n",
       "      <td>1st</td>\n",
       "      <td>Futrelle, Mrs. Jacques Heath (Lily May Peel)</td>\n",
       "      <td>female</td>\n",
       "      <td>35.0</td>\n",
       "      <td>1</td>\n",
       "      <td>0</td>\n",
       "      <td>113803</td>\n",
       "      <td>53.1000</td>\n",
       "      <td>C123</td>\n",
       "      <td>S</td>\n",
       "    </tr>\n",
       "    <tr>\n",
       "      <th>4</th>\n",
       "      <td>5</td>\n",
       "      <td>0</td>\n",
       "      <td>3rd</td>\n",
       "      <td>Allen, Mr. William Henry</td>\n",
       "      <td>male</td>\n",
       "      <td>35.0</td>\n",
       "      <td>0</td>\n",
       "      <td>0</td>\n",
       "      <td>373450</td>\n",
       "      <td>8.0500</td>\n",
       "      <td>NaN</td>\n",
       "      <td>S</td>\n",
       "    </tr>\n",
       "  </tbody>\n",
       "</table>\n",
       "</div>"
      ],
      "text/plain": [
       "   PassengerId  Survived Pclass  \\\n",
       "0            1         0    3rd   \n",
       "1            2         1    1st   \n",
       "2            3         1    3rd   \n",
       "3            4         1    1st   \n",
       "4            5         0    3rd   \n",
       "\n",
       "                                                Name     Sex   Age  SibSp  \\\n",
       "0                            Braund, Mr. Owen Harris    male  22.0      1   \n",
       "1  Cumings, Mrs. John Bradley (Florence Briggs Th...  female  38.0      1   \n",
       "2                             Heikkinen, Miss. Laina  female  26.0      0   \n",
       "3       Futrelle, Mrs. Jacques Heath (Lily May Peel)  female  35.0      1   \n",
       "4                           Allen, Mr. William Henry    male  35.0      0   \n",
       "\n",
       "   Parch            Ticket     Fare Cabin Embarked  \n",
       "0      0         A/5 21171   7.2500   NaN        S  \n",
       "1      0          PC 17599  71.2833   C85        C  \n",
       "2      0  STON/O2. 3101282   7.9250   NaN        S  \n",
       "3      0            113803  53.1000  C123        S  \n",
       "4      0            373450   8.0500   NaN        S  "
      ]
     },
     "execution_count": 6,
     "metadata": {},
     "output_type": "execute_result"
    }
   ],
   "source": [
    "# Confirming data is in desired format\n",
    "\n",
    "titanic_df_clean.head()"
   ]
  },
  {
   "cell_type": "markdown",
   "metadata": {},
   "source": [
    "**Variable descriptions**:\n",
    "- Survived: Survival (0 = No; 1 = Yes)\n",
    "- Pclass: Passenger class (1st; 2nd; 3rd)\n",
    "- Name: Name\n",
    "- Sex: Sex\n",
    "- Age: Age (years)\n",
    "- SibSp: Number of siblings or spouses on board\n",
    "- Parch: Number of parents or children on board\n",
    "- Ticket: Ticket number\n",
    "- Fare: Passenger fare (assumed to be USD)\n",
    "- Cabin: Cabin\n",
    "- Embarked: Port of embarkation (C = Cherbourg; Q = Queenstown; S = Southampton)\n",
    "\n",
    "Special notes:\n",
    "\n",
    "- Pclass is a proxy for socio-economic status (SES)\n",
    "  - 1st ~ Upper; 2nd ~ Middle; 3rd ~ Lower\n",
    "\n",
    "- Age is in years; fractional if less than one (1)\n",
    "  - If the age is estimated, it is in the form xx.5 \n",
    "\n",
    "- With respect to the family relation variables (i.e. SibSp and Parch) some relations were ignored. The following are the definitions used:\n",
    "  - Sibling:  Brother, sister, stepbrother, or stepsister of passenger on board Titanic\n",
    "  - Spouse:   Husband or wife of passenger on board Titanic (mistresses and fiances ignored)\n",
    "  - Parent:   Mother or father of passenger on board Titanic\n",
    "  - Child:    Son, daughter, stepson, or stepdaughter of passenger on board Titanic\n",
    "\n",
    "- Other family relatives excluded from this study include cousins, nephews/nieces, aunts/uncles, and in-laws. Some children travelled only with a nanny, therefore Parch=0 for them. As well, some travelled with very close friends or neighbours in a village, however, the definitions do not support such relations. [[5]](https://www.kaggle.com/c/titanic/data)"
   ]
  },
  {
   "cell_type": "markdown",
   "metadata": {},
   "source": [
    "#### *Descriptive statistics*"
   ]
  },
  {
   "cell_type": "code",
   "execution_count": 7,
   "metadata": {
    "collapsed": false
   },
   "outputs": [],
   "source": [
    "# Function to produce table of descriptive statistics for selected fields with \n",
    "# side-by-side comparison for easier comprehension\n",
    "\n",
    "def create_table(df,fields):\n",
    "    i = 0\n",
    "    survived_df = df[df['Survived']==1]\n",
    "    died_df = df[df['Survived']==0]\n",
    "    for field in fields:\n",
    "        survived_column = pd.DataFrame(survived_df[field].describe())\n",
    "        died_column = pd.DataFrame(died_df[field].describe())\n",
    "        a = create_sub_table(survived_column,died_column)\n",
    "        if i == 0:\n",
    "            b, a = a, 0\n",
    "        else:\n",
    "            b = b.merge(a,left_index=True,right_index=True,copy=False)\n",
    "        i = 1\n",
    "    return b\n",
    "\n",
    "# Helper function to create the column pairs for each field\n",
    "\n",
    "def create_sub_table(column1,column2):\n",
    "    return column1.merge(column2,left_index=True,right_index=True,suffixes=('_Survived', '_Died'))"
   ]
  },
  {
   "cell_type": "markdown",
   "metadata": {},
   "source": [
    "**Table 1: Descriptive statistics for passenger age, fare, sibling/spouse and parent/child variables**"
   ]
  },
  {
   "cell_type": "code",
   "execution_count": 8,
   "metadata": {
    "collapsed": false
   },
   "outputs": [
    {
     "data": {
      "text/html": [
       "<div>\n",
       "<table border=\"1\" class=\"dataframe\">\n",
       "  <thead>\n",
       "    <tr style=\"text-align: right;\">\n",
       "      <th></th>\n",
       "      <th>Age_Survived</th>\n",
       "      <th>Age_Died</th>\n",
       "      <th>Fare_Survived</th>\n",
       "      <th>Fare_Died</th>\n",
       "      <th>SibSp_Survived</th>\n",
       "      <th>SibSp_Died</th>\n",
       "      <th>Parch_Survived</th>\n",
       "      <th>Parch_Died</th>\n",
       "    </tr>\n",
       "  </thead>\n",
       "  <tbody>\n",
       "    <tr>\n",
       "      <th>count</th>\n",
       "      <td>290.000000</td>\n",
       "      <td>424.000000</td>\n",
       "      <td>290.000000</td>\n",
       "      <td>424.000000</td>\n",
       "      <td>290.000000</td>\n",
       "      <td>424.000000</td>\n",
       "      <td>290.000000</td>\n",
       "      <td>424.000000</td>\n",
       "    </tr>\n",
       "    <tr>\n",
       "      <th>mean</th>\n",
       "      <td>28.343690</td>\n",
       "      <td>30.626179</td>\n",
       "      <td>51.843205</td>\n",
       "      <td>22.965456</td>\n",
       "      <td>0.493103</td>\n",
       "      <td>0.525943</td>\n",
       "      <td>0.527586</td>\n",
       "      <td>0.365566</td>\n",
       "    </tr>\n",
       "    <tr>\n",
       "      <th>std</th>\n",
       "      <td>14.950952</td>\n",
       "      <td>14.172110</td>\n",
       "      <td>70.458776</td>\n",
       "      <td>31.448825</td>\n",
       "      <td>0.731132</td>\n",
       "      <td>1.044760</td>\n",
       "      <td>0.807147</td>\n",
       "      <td>0.878341</td>\n",
       "    </tr>\n",
       "    <tr>\n",
       "      <th>min</th>\n",
       "      <td>0.420000</td>\n",
       "      <td>1.000000</td>\n",
       "      <td>0.000000</td>\n",
       "      <td>0.000000</td>\n",
       "      <td>0.000000</td>\n",
       "      <td>0.000000</td>\n",
       "      <td>0.000000</td>\n",
       "      <td>0.000000</td>\n",
       "    </tr>\n",
       "    <tr>\n",
       "      <th>25%</th>\n",
       "      <td>19.000000</td>\n",
       "      <td>21.000000</td>\n",
       "      <td>13.000000</td>\n",
       "      <td>7.895800</td>\n",
       "      <td>0.000000</td>\n",
       "      <td>0.000000</td>\n",
       "      <td>0.000000</td>\n",
       "      <td>0.000000</td>\n",
       "    </tr>\n",
       "    <tr>\n",
       "      <th>50%</th>\n",
       "      <td>28.000000</td>\n",
       "      <td>28.000000</td>\n",
       "      <td>26.250000</td>\n",
       "      <td>11.887500</td>\n",
       "      <td>0.000000</td>\n",
       "      <td>0.000000</td>\n",
       "      <td>0.000000</td>\n",
       "      <td>0.000000</td>\n",
       "    </tr>\n",
       "    <tr>\n",
       "      <th>75%</th>\n",
       "      <td>36.000000</td>\n",
       "      <td>39.000000</td>\n",
       "      <td>66.200000</td>\n",
       "      <td>26.550000</td>\n",
       "      <td>1.000000</td>\n",
       "      <td>1.000000</td>\n",
       "      <td>1.000000</td>\n",
       "      <td>0.000000</td>\n",
       "    </tr>\n",
       "    <tr>\n",
       "      <th>max</th>\n",
       "      <td>80.000000</td>\n",
       "      <td>74.000000</td>\n",
       "      <td>512.329200</td>\n",
       "      <td>263.000000</td>\n",
       "      <td>4.000000</td>\n",
       "      <td>5.000000</td>\n",
       "      <td>5.000000</td>\n",
       "      <td>6.000000</td>\n",
       "    </tr>\n",
       "  </tbody>\n",
       "</table>\n",
       "</div>"
      ],
      "text/plain": [
       "       Age_Survived    Age_Died  Fare_Survived   Fare_Died  SibSp_Survived  \\\n",
       "count    290.000000  424.000000     290.000000  424.000000      290.000000   \n",
       "mean      28.343690   30.626179      51.843205   22.965456        0.493103   \n",
       "std       14.950952   14.172110      70.458776   31.448825        0.731132   \n",
       "min        0.420000    1.000000       0.000000    0.000000        0.000000   \n",
       "25%       19.000000   21.000000      13.000000    7.895800        0.000000   \n",
       "50%       28.000000   28.000000      26.250000   11.887500        0.000000   \n",
       "75%       36.000000   39.000000      66.200000   26.550000        1.000000   \n",
       "max       80.000000   74.000000     512.329200  263.000000        4.000000   \n",
       "\n",
       "       SibSp_Died  Parch_Survived  Parch_Died  \n",
       "count  424.000000      290.000000  424.000000  \n",
       "mean     0.525943        0.527586    0.365566  \n",
       "std      1.044760        0.807147    0.878341  \n",
       "min      0.000000        0.000000    0.000000  \n",
       "25%      0.000000        0.000000    0.000000  \n",
       "50%      0.000000        0.000000    0.000000  \n",
       "75%      1.000000        1.000000    0.000000  \n",
       "max      5.000000        5.000000    6.000000  "
      ]
     },
     "execution_count": 8,
     "metadata": {},
     "output_type": "execute_result"
    }
   ],
   "source": [
    "create_table(titanic_df_clean,['Age','Fare','SibSp','Parch'])"
   ]
  },
  {
   "cell_type": "markdown",
   "metadata": {},
   "source": [
    "The above table shows descriptive statistics for passenger age, fare, number of siblings/spouses on board, and number of parents/children on board. This highlights a number of conclusions, including:\n",
    "* Of the 714 passengers in this sample, 290 survived, equivalent to an overall survival rate of 40.6%\n",
    "* The average age of survivors was slightly younger than that of non-survivors, at 28.3 vs. 30.6. However, the median age was the same in each case. These findings may suggest that children were prioritised during the evacuation, leading to a lower mean age among survivors\n",
    "  + The oldest survivor was 80 years old, while the youngest was less than 1\n",
    "  + The oldest victim was 74 years old, while the youngest was 1\n",
    "* The average fare paid by survivors was \\$51.84, while among non-survivors this was only \\$22.97. This may suggest that passengers in higher classes were more likely to survive, perhaps due to closer proximity to the deck and/or the lifeboats\n",
    "* The average number of siblings or spouses on board was similar for both survivors and non-survivors, at 0.49 and 0.53, respectively\n",
    "* The average number of parents or children on board was slightly higher for survivors at 0.53 vs. 0.37 for non-survivors. A possible explanation might be that women and children were prioritised when filling the lifeboats, resulting in a disproportionately high number of family units among the survivors"
   ]
  },
  {
   "cell_type": "markdown",
   "metadata": {},
   "source": [
    "**Table 2: Descriptive statistics for passenger sex and class**"
   ]
  },
  {
   "cell_type": "code",
   "execution_count": 9,
   "metadata": {
    "collapsed": false
   },
   "outputs": [
    {
     "data": {
      "text/html": [
       "<div>\n",
       "<table border=\"1\" class=\"dataframe\">\n",
       "  <thead>\n",
       "    <tr style=\"text-align: right;\">\n",
       "      <th></th>\n",
       "      <th>Sex_Survived</th>\n",
       "      <th>Sex_Died</th>\n",
       "      <th>Pclass_Survived</th>\n",
       "      <th>Pclass_Died</th>\n",
       "    </tr>\n",
       "  </thead>\n",
       "  <tbody>\n",
       "    <tr>\n",
       "      <th>count</th>\n",
       "      <td>290</td>\n",
       "      <td>424</td>\n",
       "      <td>290</td>\n",
       "      <td>424</td>\n",
       "    </tr>\n",
       "    <tr>\n",
       "      <th>unique</th>\n",
       "      <td>2</td>\n",
       "      <td>2</td>\n",
       "      <td>3</td>\n",
       "      <td>3</td>\n",
       "    </tr>\n",
       "    <tr>\n",
       "      <th>top</th>\n",
       "      <td>female</td>\n",
       "      <td>male</td>\n",
       "      <td>1st</td>\n",
       "      <td>3rd</td>\n",
       "    </tr>\n",
       "    <tr>\n",
       "      <th>freq</th>\n",
       "      <td>197</td>\n",
       "      <td>360</td>\n",
       "      <td>122</td>\n",
       "      <td>270</td>\n",
       "    </tr>\n",
       "  </tbody>\n",
       "</table>\n",
       "</div>"
      ],
      "text/plain": [
       "       Sex_Survived Sex_Died Pclass_Survived Pclass_Died\n",
       "count           290      424             290         424\n",
       "unique            2        2               3           3\n",
       "top          female     male             1st         3rd\n",
       "freq            197      360             122         270"
      ]
     },
     "execution_count": 9,
     "metadata": {},
     "output_type": "execute_result"
    }
   ],
   "source": [
    "create_table(titanic_df_clean,['Sex','Pclass'])"
   ]
  },
  {
   "cell_type": "markdown",
   "metadata": {},
   "source": [
    "The above table shows descriptive statistics for passenger sex and class. This suggests that:\n",
    "* Women made up 67.9% of survivors. As stated above, this may have been caused by a policy of prioritising women (and children) during the evacuation\n",
    "* First-class passengers represented 42.1% of survivors, while third-class passengers constituted 63.7% of the victims. As stated above, it may have been the case that first-class passengers were closer to the deck, and thus had easier access to the lifeboats, and/or were less likely to get trapped below deck as the ship sank"
   ]
  },
  {
   "cell_type": "markdown",
   "metadata": {},
   "source": [
    "### Analysis and hypothesis testing"
   ]
  },
  {
   "cell_type": "markdown",
   "metadata": {},
   "source": [
    "#### *Visualisation and analysis functions*"
   ]
  },
  {
   "cell_type": "code",
   "execution_count": 10,
   "metadata": {
    "collapsed": true
   },
   "outputs": [],
   "source": [
    "# Function to return totals for given field\n",
    "\n",
    "def total_by_field(df,field):\n",
    "    return df.groupby(field).count()['Survived']\n",
    "\n",
    "# Function to return total survivors for given field\n",
    "\n",
    "def survived_by_field(df,field):\n",
    "    return df.groupby(field).sum()['Survived']\n",
    "\n",
    "# Function to return total passengers died for given field\n",
    "\n",
    "def died_by_field(df,field):\n",
    "    return total_by_field(df,field) - survived_by_field(df,field)"
   ]
  },
  {
   "cell_type": "code",
   "execution_count": 11,
   "metadata": {
    "collapsed": false
   },
   "outputs": [],
   "source": [
    "# Function to return total survivor and victim counts for given field\n",
    "\n",
    "def get_counts(df,field):\n",
    "    Survived = survived_by_field(df,field)\n",
    "    Died = died_by_field(df,field)\n",
    "    return pd.concat([Survived, Died], axis=1,keys=['Survived','Died'])"
   ]
  },
  {
   "cell_type": "code",
   "execution_count": 12,
   "metadata": {
    "collapsed": false
   },
   "outputs": [],
   "source": [
    "# Function to return percentage outputs for stacked bar chart for given field\n",
    "\n",
    "def get_percentages(df,field):\n",
    "    return get_counts(df,field).div(total_by_field(df,field),axis=0) * 100"
   ]
  },
  {
   "cell_type": "code",
   "execution_count": 13,
   "metadata": {
    "collapsed": true
   },
   "outputs": [],
   "source": [
    "# Function to return x-coordinates for bars in stacked bar chart\n",
    "\n",
    "def get_bottom(width,spacing,n):\n",
    "    bottom = [spacing]\n",
    "    for i in range(1,n):\n",
    "        bottom.append(i * width + (i+1) * spacing)\n",
    "    return np.array(bottom)"
   ]
  },
  {
   "cell_type": "code",
   "execution_count": 14,
   "metadata": {
    "collapsed": true
   },
   "outputs": [],
   "source": [
    "# Function to perform chi-squared goodness-of-fit test between given variable and survival\n",
    "\n",
    "def chisquare_survival(df,field=None):\n",
    "    if field:\n",
    "        observed = get_counts(df,field)\n",
    "    else:\n",
    "        observed = df\n",
    "    row_totals = observed.sum(axis=1)\n",
    "    col_totals = observed.sum(axis=0)\n",
    "    grand_total = row_totals.sum()\n",
    "    row_ratios = row_totals / grand_total\n",
    "    expected = np.outer(row_ratios,col_totals)\n",
    "    statistic, pvalue = stats.chisquare(f_obs=observed, f_exp=expected, axis=None)\n",
    "    print \"The chi-squared test statistic is \" + str(statistic)\n",
    "    print \"The P-value is \" + str(pvalue)"
   ]
  },
  {
   "cell_type": "code",
   "execution_count": 15,
   "metadata": {
    "collapsed": true
   },
   "outputs": [],
   "source": [
    "# Splitting the data into two sets based on survival status, and calculating totals\n",
    "\n",
    "survived_df = titanic_df_clean[titanic_df_clean['Survived']==1]\n",
    "died_df = titanic_df_clean[titanic_df_clean['Survived']==0]\n",
    "survived_total = survived_df.count()['PassengerId']\n",
    "died_total = died_df.count()['PassengerId']"
   ]
  },
  {
   "cell_type": "markdown",
   "metadata": {},
   "source": [
    "#### *1. Was there a significant relationship between passenger sex and survival?*"
   ]
  },
  {
   "cell_type": "code",
   "execution_count": 16,
   "metadata": {
    "collapsed": false
   },
   "outputs": [
    {
     "data": {
      "text/plain": [
       "<matplotlib.text.Text at 0x10dbd3fd0>"
      ]
     },
     "execution_count": 16,
     "metadata": {},
     "output_type": "execute_result"
    },
    {
     "data": {
      "image/png": "[encoded data removed]",
      "text/plain": [
       "<matplotlib.figure.Figure at 0x10fe6d910>"
      ]
     },
     "metadata": {},
     "output_type": "display_data"
    }
   ],
   "source": [
    "# Creating stacked bar chart of passenger survival status by sex\n",
    "\n",
    "survived = get_percentages(titanic_df_clean,'Sex')['Survived']\n",
    "died = get_percentages(titanic_df_clean,'Sex')['Died']\n",
    "width = 0.3\n",
    "spacing = 0.1\n",
    "bottom = get_bottom(width,spacing,len(survived))\n",
    "plt.figure(figsize=(10,4))\n",
    "plt.barh(bottom, survived, width, color='g', label='Survived')\n",
    "plt.barh(bottom, died, width, color='r', left=survived, label='Died')\n",
    "plt.legend(loc='best')\n",
    "plt.yticks((bottom + (width/2)),['Female','Male'])\n",
    "plt.ylim(0,1)\n",
    "plt.ylabel('Passenger sex')\n",
    "plt.xlabel('Breakdown by survival status (%)')\n",
    "plt.title('Chart 1: Breakdown of survival status by passenger sex')"
   ]
  },
  {
   "cell_type": "markdown",
   "metadata": {},
   "source": [
    "The above chart displays the survival rates for both sexes among the passengers on board the *Titanic*. 75.5% of women on board survived, compared with only 20.5% of men. This supports the theory stated above that women may have been given priority when boarding the limited number of lifeboats."
   ]
  },
  {
   "cell_type": "code",
   "execution_count": 17,
   "metadata": {
    "collapsed": false
   },
   "outputs": [
    {
     "name": "stdout",
     "output_type": "stream",
     "text": [
      "The chi-squared test statistic is 207.297776057\n",
      "The P-value is 1.11731937866e-44\n"
     ]
    }
   ],
   "source": [
    "chisquare_survival(titanic_df_clean,'Sex')"
   ]
  },
  {
   "cell_type": "markdown",
   "metadata": {},
   "source": [
    "By calculating the chi-squared test statistic and P-value for this data, it can be seen that P < 0.05. The null hypothesis is therefore rejected in favour of the alternative: the population distribution of male and female survivors is not consistent with the overall population distribution of male and female passengers. In other words, the observed distribution of survivors in terms of sex is extremely unlikely to have occurred by chance."
   ]
  },
  {
   "cell_type": "markdown",
   "metadata": {},
   "source": [
    "#### *2. Was there a significant relationship between passenger class and survival?*"
   ]
  },
  {
   "cell_type": "code",
   "execution_count": 18,
   "metadata": {
    "collapsed": false
   },
   "outputs": [
    {
     "data": {
      "text/plain": [
       "<matplotlib.text.Text at 0x1125e9050>"
      ]
     },
     "execution_count": 18,
     "metadata": {},
     "output_type": "execute_result"
    },
    {
     "data": {
      "image/png": "[encoded data removed]",
      "text/plain": [
       "<matplotlib.figure.Figure at 0x10fe38c10>"
      ]
     },
     "metadata": {},
     "output_type": "display_data"
    }
   ],
   "source": [
    "# Creating stacked bar chart of passenger survival status by class\n",
    "\n",
    "survived = get_percentages(titanic_df_clean,'Pclass')['Survived'][::-1]\n",
    "died = get_percentages(titanic_df_clean,'Pclass')['Died'][::-1]\n",
    "width = 0.3\n",
    "spacing = 0.1\n",
    "bottom = get_bottom(width,spacing,len(survived))\n",
    "plt.figure(figsize=(10,4))\n",
    "plt.barh(bottom, survived, width, color='g', label='Survived')\n",
    "plt.barh(bottom, died, width, color='r', left=survived, label='Died')\n",
    "plt.legend(loc='best')\n",
    "plt.yticks((bottom + (width/2)),['3rd','2nd','1st'])\n",
    "plt.ylim(0,1.5)\n",
    "plt.ylabel('Passenger class')\n",
    "plt.xlabel('Breakdown by survival status (%)')\n",
    "plt.title('Chart 2: Breakdown of survival status by passenger class')"
   ]
  },
  {
   "cell_type": "markdown",
   "metadata": {},
   "source": [
    "Chart 2 shows the survival rates for passengers in each cabin class. It can be observed that 65.6% of first-class passengers survived, while 48.0% of second-class passengers and 23.9% of third-class passengers survived. The three classes constituted 26.1%, 24.2% and 49.7% of total passengers, respectively. However, they represented 42.1%, 28.6% and 29.3% of the survivors (respectively)."
   ]
  },
  {
   "cell_type": "code",
   "execution_count": 19,
   "metadata": {
    "collapsed": false
   },
   "outputs": [
    {
     "name": "stdout",
     "output_type": "stream",
     "text": [
      "The chi-squared test statistic is 92.9014172114\n",
      "The P-value is 1.65011138572e-18\n"
     ]
    }
   ],
   "source": [
    "chisquare_survival(titanic_df_clean,'Pclass')"
   ]
  },
  {
   "cell_type": "markdown",
   "metadata": {},
   "source": [
    "The chi-squared test statistic and P-value calculated using this data shows that P < 0.05. The null hypothesis is therefore rejected in favour of the alternative: the population distribution of first, second and third class survivors is not consistent with the overall population distribution of first, second and third class passengers. "
   ]
  },
  {
   "cell_type": "code",
   "execution_count": 20,
   "metadata": {
    "collapsed": false
   },
   "outputs": [
    {
     "data": {
      "text/plain": [
       "<matplotlib.text.Text at 0x1126b8f90>"
      ]
     },
     "execution_count": 20,
     "metadata": {},
     "output_type": "execute_result"
    },
    {
     "data": {
      "image/png": "[encoded data removed]",
      "text/plain": [
       "<matplotlib.figure.Figure at 0x10fd7ab10>"
      ]
     },
     "metadata": {},
     "output_type": "display_data"
    }
   ],
   "source": [
    "# Creating boxplots of fare paid by passenger survival status\n",
    "\n",
    "sns.boxplot(x='Survived',y='Fare',data=titanic_df_clean,fliersize=0,palette=['r','g'])\n",
    "plt.xticks([0,1],['Died','Survived'])\n",
    "plt.ylim(0,150)\n",
    "plt.xlabel('Survival status')\n",
    "plt.ylabel('Fare paid (USD)')\n",
    "plt.title(\"Chart 3: Boxplots of fare paid by survival status (excluding outliers)\")"
   ]
  },
  {
   "cell_type": "markdown",
   "metadata": {},
   "source": [
    "The above chart further illustrates the link between passenger class (and by proxy social status) and survival. While some high paying passengers died, those paying the most survived. That doesn't necessarily suggest an explicit link between fare paid and survival; rather, an implicit link has already been demonstrated by the likely existence of a relationship between passenger class and survival, and the fact that first and second-class cabins cost more than third-class.  \n",
    "\n",
    "As stated previously, one explanation might be that first-class cabins were located nearer the lifeboats."
   ]
  },
  {
   "cell_type": "markdown",
   "metadata": {},
   "source": [
    "#### *3. Was there a significant relationship between passenger age and survival?*"
   ]
  },
  {
   "cell_type": "code",
   "execution_count": 21,
   "metadata": {
    "collapsed": false
   },
   "outputs": [
    {
     "data": {
      "text/plain": [
       "<matplotlib.text.Text at 0x112dea8d0>"
      ]
     },
     "execution_count": 21,
     "metadata": {},
     "output_type": "execute_result"
    },
    {
     "data": {
      "image/png": "[encoded data removed]",
      "text/plain": [
       "<matplotlib.figure.Figure at 0x1126a2b50>"
      ]
     },
     "metadata": {},
     "output_type": "display_data"
    }
   ],
   "source": [
    "# Creating histogram of passenger age\n",
    "\n",
    "titanic_df_clean['Age'].hist(bins=40,color='b')\n",
    "plt.xlabel(\"Passenger age (years)\")\n",
    "plt.ylabel(\"Frequency\")\n",
    "plt.title(\"Chart 4: Histogram of passenger age\")"
   ]
  },
  {
   "cell_type": "markdown",
   "metadata": {},
   "source": [
    "Chart 4 shows the distribution of passenger ages. The distribution is positively skewed, but it approximates a normal distribution closely enough to minimise errors when performing a t-test on a sample. The mode interval is 20-22.5 years."
   ]
  },
  {
   "cell_type": "code",
   "execution_count": 22,
   "metadata": {
    "collapsed": false
   },
   "outputs": [
    {
     "data": {
      "text/plain": [
       "<matplotlib.text.Text at 0x112f9d950>"
      ]
     },
     "execution_count": 22,
     "metadata": {},
     "output_type": "execute_result"
    },
    {
     "data": {
      "image/png": "[encoded data removed]",
      "text/plain": [
       "<matplotlib.figure.Figure at 0x10fe6dd10>"
      ]
     },
     "metadata": {},
     "output_type": "display_data"
    }
   ],
   "source": [
    "# Creating boxplots of passenger age by sex and survival status\n",
    "\n",
    "sns.boxplot(x='Sex',y='Age',hue='Survived',data=titanic_df_clean,palette=['r','g'])\n",
    "red_patch = mpatches.Patch(color='r', label='Died')\n",
    "green_patch = mpatches.Patch(color='g', label='Survived')\n",
    "plt.legend(handles=[red_patch,green_patch])\n",
    "plt.xticks([0,1],['Male','Female'])\n",
    "plt.ylim(0,90)\n",
    "plt.xlabel('Sex')\n",
    "plt.ylabel('Passenger age (years)')\n",
    "plt.title(\"Chart 5: Boxplots of passenger age by sex and survival status\")"
   ]
  },
  {
   "cell_type": "markdown",
   "metadata": {},
   "source": [
    "Chart 5 shows that the interquartile range of survivors' and victims' ages was similar for both sexes, though female victims tended to be younger than female survivors, while male victims tended to be older than male survivors.  \n",
    "\n",
    "The mean age of male survivors was 27.3 years, vs. 31.6 for male victims. The mean female survivor was 28.8 years old, vs. 25.0 for female victims. The mean age of passengers was 29.7 years, while the mean age of survivors was 28.3. While this appears to support the suggestion that a policy of 'women and children first' brought the average age of survivors down, a t-test will be performed to determine the significance of the difference between means."
   ]
  },
  {
   "cell_type": "code",
   "execution_count": 23,
   "metadata": {
    "collapsed": false
   },
   "outputs": [
    {
     "name": "stdout",
     "output_type": "stream",
     "text": [
      "The t statistic is -1.54385533373\n",
      "The P-value is 0.123717651529\n"
     ]
    }
   ],
   "source": [
    "survivor_ages = survived_df['Age']\n",
    "population_mean_age = titanic_df_clean.mean()['Age']\n",
    "statistic, pvalue = stats.ttest_1samp(a=survivor_ages, popmean=population_mean_age)\n",
    "print \"The t statistic is \" + str(statistic)\n",
    "print \"The P-value is \" + str(pvalue)"
   ]
  },
  {
   "cell_type": "markdown",
   "metadata": {},
   "source": [
    "The calculated t statistic shows that P > 0.05. Therefore the null hypothesis is retained: the population mean age of survivors is equal to the overall population mean age of passengers. Age was not likely a significant factor of survival."
   ]
  },
  {
   "cell_type": "markdown",
   "metadata": {},
   "source": [
    "#### *4. Were parents more likely to survive than children?*"
   ]
  },
  {
   "cell_type": "code",
   "execution_count": 24,
   "metadata": {
    "collapsed": false
   },
   "outputs": [
    {
     "data": {
      "text/plain": [
       "<matplotlib.text.Text at 0x1133af9d0>"
      ]
     },
     "execution_count": 24,
     "metadata": {},
     "output_type": "execute_result"
    },
    {
     "data": {
      "image/png": "[encoded data removed]",
      "text/plain": [
       "<matplotlib.figure.Figure at 0x112f19d10>"
      ]
     },
     "metadata": {},
     "output_type": "display_data"
    }
   ],
   "source": [
    "# Creating histogram of passenger ages for those with either parents or children onboard\n",
    "\n",
    "parch_died = died_df[died_df['Parch']>0]\n",
    "parch_survived = survived_df[survived_df['Parch']>0]\n",
    "parch_died['Age'].hist(bins=28,range=(0,70),normed=True,alpha=0.5,label='Died',color='r')\n",
    "parch_survived['Age'].hist(bins=28,range=(0,70),normed=True,alpha=0.5,label='Survived',color='g')\n",
    "plt.legend(loc='best')\n",
    "plt.xlabel(\"Passenger age (years)\")\n",
    "plt.ylabel(\"Frequency (normalised)\")\n",
    "plt.title(\"Chart 6: Histogram of age by survival status for parents & children (normalised)\")"
   ]
  },
  {
   "cell_type": "markdown",
   "metadata": {},
   "source": [
    "Chart 6 shows the normalised frequency distribution of passenger ages for those passengers that had either a parent or child on board, split into survivors and victims. The chart suggests that the youngest children (< 7.5 years) and the youngest parents (17.5-25 years) were more likely to survive, while older children, older parents and (presumably) grandparents were more likely to die.\n",
    "\n",
    "By making the crude assumption that any passenger over 18 years old with parents or children on board was a parent, while any 18 was a child, a chi-squared goodness-of-fit test can be performed to determine whether the distribution of parents and children among the survivors diverged significantly from the overall population."
   ]
  },
  {
   "cell_type": "code",
   "execution_count": 25,
   "metadata": {
    "collapsed": false
   },
   "outputs": [],
   "source": [
    "# Creating group of parent/child survivors and victims for use with chi-squared function\n",
    "\n",
    "parent_survived = parch_survived[parch_survived['Age']>=18].count()['PassengerId']\n",
    "child_survived = parch_survived[parch_survived['Age']<18].count()['PassengerId']\n",
    "parent_died = parch_died[parch_died['Age']>=18].count()['PassengerId']\n",
    "child_died = parch_died[parch_died['Age']<18].count()['PassengerId']\n",
    "\n",
    "groupby_parch = pd.DataFrame([[parent_survived,parent_died],\n",
    "                               [child_survived, child_died]],\n",
    "                                index=['Parent','Child'],columns=['Survived','Died'])"
   ]
  },
  {
   "cell_type": "code",
   "execution_count": 26,
   "metadata": {
    "collapsed": false
   },
   "outputs": [
    {
     "name": "stdout",
     "output_type": "stream",
     "text": [
      "The chi-squared test statistic is 0.156571220212\n",
      "The P-value is 0.984275430275\n"
     ]
    }
   ],
   "source": [
    "chisquare_survival(groupby_parch)"
   ]
  },
  {
   "cell_type": "markdown",
   "metadata": {},
   "source": [
    "From the chi-squared statistic and P-value calculated, it can be seen that P > 0.05. Therefore the null hypothesis is retained: the population distribution of parent and child survivors is consistent with the overall population distribution of parent and child passengers. In other words, the result suggests that parents were no more likely to die than children.  \n",
    "\n",
    "This appears to suggest that families were likely to stick together regardless of whether or not they were able to get on a lifeboat, though this cannot be confirmed without explicitly matching family groups among the data and repeating the analysis, which is beyond the scope of this investigation."
   ]
  },
  {
   "cell_type": "markdown",
   "metadata": {},
   "source": [
    "#### *5. Were passengers more likely to survive if they had a family member on board?*"
   ]
  },
  {
   "cell_type": "code",
   "execution_count": 27,
   "metadata": {
    "collapsed": false
   },
   "outputs": [
    {
     "data": {
      "text/plain": [
       "<matplotlib.text.Text at 0x113715610>"
      ]
     },
     "execution_count": 27,
     "metadata": {},
     "output_type": "execute_result"
    },
    {
     "data": {
      "image/png": "[encoded data removed]",
      "text/plain": [
       "<matplotlib.figure.Figure at 0x10fe38bd0>"
      ]
     },
     "metadata": {},
     "output_type": "display_data"
    }
   ],
   "source": [
    "# Creating stacked bar chart of passenger survival by presence of family onboard\n",
    "\n",
    "survived_no_fam = survived_df.groupby(['Parch','SibSp'],as_index=False).count()['PassengerId'][0]\n",
    "died_no_fam = died_df.groupby(['Parch','SibSp'],as_index=False).count()['PassengerId'][0]\n",
    "groupby_family = pd.DataFrame([[survived_no_fam,died_no_fam],\n",
    "                               [(survived_total - survived_no_fam), (died_total - died_no_fam)]],\n",
    "                                index=['No family','Family'],columns=['Survived','Died'])\n",
    "\n",
    "percentages = groupby_family.div(groupby_family.sum(axis=1), axis=0) * 100\n",
    "\n",
    "survived = percentages['Survived']\n",
    "died = percentages['Died']\n",
    "\n",
    "width = 0.3\n",
    "spacing = 0.1\n",
    "bottom = get_bottom(width,spacing,len(survived))\n",
    "plt.figure(figsize=(10,4))\n",
    "plt.barh(bottom, survived, width, color='g', label='Survived')\n",
    "plt.barh(bottom, died, width, color='r', left=survived, label='Died')\n",
    "plt.legend(loc='best')\n",
    "plt.yticks((bottom + (width/2)),['No family on board','Family on board'])\n",
    "plt.ylim(0,1)\n",
    "plt.ylabel('Presence of family on board')\n",
    "plt.xlabel('Breakdown by survival status (%)')\n",
    "plt.title('Chart 7: Breakdown of survival status by presence of family on board')"
   ]
  },
  {
   "cell_type": "markdown",
   "metadata": {},
   "source": [
    "Chart 7 shows the survival rates for passengers split between those with family on board (i.e. SibSp or Parch > 0), and those with no family on board. 51.6% of passengers with family on board survived, vs. 32.2% of passengers without."
   ]
  },
  {
   "cell_type": "code",
   "execution_count": 28,
   "metadata": {
    "collapsed": false
   },
   "outputs": [
    {
     "name": "stdout",
     "output_type": "stream",
     "text": [
      "The chi-squared test statistic is 27.4683420065\n",
      "The P-value is 4.69577655255e-06\n"
     ]
    }
   ],
   "source": [
    "chisquare_survival(groupby_family)"
   ]
  },
  {
   "cell_type": "markdown",
   "metadata": {},
   "source": [
    "The chi-squared test statistic and P-value demonstrate that P < 0.05. The null hypothesis is therefore rejected in favour of the alternative: the population distribution of survivors with and without family members on board is not consistent with the overall population distribution of passengers with and without family members on board.  \n",
    "\n",
    "In other words, the data suggest that the presence of family members on board may have been a factor in a given passenger's survival."
   ]
  },
  {
   "cell_type": "markdown",
   "metadata": {},
   "source": [
    "### Conclusions"
   ]
  },
  {
   "cell_type": "markdown",
   "metadata": {},
   "source": [
    "The investigation found that, of those analysed, the factors that were most likely to influence survival in the sinking of the *Titanic* were:\n",
    "* Sex (specifically, being female)\n",
    "* Passenger class (specifically, being in first-class)\n",
    "* The presence of family members on board (specifically, travelling with family vs. without)\n",
    "\n",
    "There could be several reasons for these findings. For example, it has been suggested that women and children were given priority access to the lifeboats, which would account for both the first and last factor. Further research has shown that this was indeed the protocol in place - *\"the last lifeboat of all had room for forty-seven; 1,500 were still on board. The crew linked arms around it to keep back the desperate melee; and passed only women and children though.\"* [[6]](https://www.statslife.org.uk/history-of-stats-science/1587-titanic-did-women-and-children-first-cost-lives)\n",
    "\n",
    "Reasons for the effect of passenger class on survival are less obvious. It has been suggested that lower class passengers were prevented from reaching the lifeboats. However, it has been reported that *\"...the official investigations determined that no distinction between passenger classes was made during the loading of lifeboats. Women and children, without discrimination of class, were given preference.\"* [[7]](http://www.titanicstory.com/stats.htm)\n",
    "\n",
    "It should be noted that these results are tentative, as they are based on a number of assumptions - for example, that the sample was chosen at random. It is conceivable that the results were not truly chosen at random, for a number of reasons, including:\n",
    "* The methodology for compiling the original sample of 891 is not known. It is possible that the compiler believed that women were prioritised in the lifeboat queues and sought out records that confirmed this (sampling bias)\n",
    "* 177 passenger records were removed from the original sample because they had no associated age data. It is possible that passengers that survived were more likely to have (accurate) age data recorded because they (or their descendants) were able to provide it after the event (exclusion bias)\n",
    "\n",
    "Furthermore, there were limitations with the dataset, for example in the way that it reported family relationships. Siblings and spouses were grouped together and reported as a number, as were parents and children, rather than explicitly linking family members with one another. The latter could likely be achieved manually, for instance by identifying individuals with shared surnames and shared 'SibSp' and 'Parch' properties, but that is beyond the scope of the present investigation.\n",
    "\n",
    "To investigate these findings further, additional analysis could be undertaken, for example, to determine whether families were more likely to survive by staying together or splitting up. It may also be interesting to explore the distribution of survivors by sex and passenger class further, and thereby determine what proportion of the survivors in each class were women (and children)."
   ]
  },
  {
   "cell_type": "markdown",
   "metadata": {},
   "source": [
    "### Footnotes"
   ]
  },
  {
   "cell_type": "markdown",
   "metadata": {},
   "source": [
    "1: https://en.wikipedia.org/wiki/RMS_Titanic  \n",
    "2: http://stattrek.com/chi-square-test/goodness-of-fit.aspx?Tutorial=AP  \n",
    "3: http://www.biostathandbook.com/chigof.html  \n",
    "4: http://www.biostathandbook.com/onesamplettest.html  \n",
    "5: https://www.kaggle.com/c/titanic/data  \n",
    "6: https://www.statslife.org.uk/history-of-stats-science/1587-titanic-did-women-and-children-first-cost-lives  \n",
    "7: http://www.titanicstory.com/stats.htm"
   ]
  }
 ],
 "metadata": {
  "anaconda-cloud": {},
  "kernelspec": {
   "display_name": "Python [conda env:DAND]",
   "language": "python",
   "name": "conda-env-DAND-py"
  },
  "language_info": {
   "codemirror_mode": {
    "name": "ipython",
    "version": 2
   },
   "file_extension": ".py",
   "mimetype": "text/x-python",
   "name": "python",
   "nbconvert_exporter": "python",
   "pygments_lexer": "ipython2",
   "version": "2.7.12"
  }
 },
 "nbformat": 4,
 "nbformat_minor": 2
}
